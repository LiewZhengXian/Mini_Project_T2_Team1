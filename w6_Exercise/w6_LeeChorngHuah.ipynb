{
 "cells": [
  {
   "cell_type": "code",
   "execution_count": 1,
   "id": "1b932706-f89a-4d62-8c60-a6e343731d08",
   "metadata": {},
   "outputs": [
    {
     "ename": "ModuleNotFoundError",
     "evalue": "No module named 'utils'",
     "output_type": "error",
     "traceback": [
      "\u001b[1;31m---------------------------------------------------------------------------\u001b[0m",
      "\u001b[1;31mModuleNotFoundError\u001b[0m                       Traceback (most recent call last)",
      "Cell \u001b[1;32mIn[1], line 4\u001b[0m\n\u001b[0;32m      2\u001b[0m \u001b[38;5;28;01mimport\u001b[39;00m \u001b[38;5;21;01mnumpy\u001b[39;00m \u001b[38;5;28;01mas\u001b[39;00m \u001b[38;5;21;01mnp\u001b[39;00m\n\u001b[0;32m      3\u001b[0m \u001b[38;5;28;01mimport\u001b[39;00m \u001b[38;5;21;01mmatplotlib\u001b[39;00m\u001b[38;5;21;01m.\u001b[39;00m\u001b[38;5;21;01mpyplot\u001b[39;00m \u001b[38;5;28;01mas\u001b[39;00m \u001b[38;5;21;01mplt\u001b[39;00m\n\u001b[1;32m----> 4\u001b[0m \u001b[38;5;28;01mfrom\u001b[39;00m \u001b[38;5;21;01mutils\u001b[39;00m \u001b[38;5;28;01mimport\u001b[39;00m \u001b[38;5;241m*\u001b[39m\n",
      "\u001b[1;31mModuleNotFoundError\u001b[0m: No module named 'utils'"
     ]
    }
   ],
   "source": [
    "import cv2 as cv\n",
    "import numpy as np\n",
    "import matplotlib.pyplot as plt\n",
    "from utils import *"
   ]
  },
  {
   "cell_type": "markdown",
   "id": "a52bec45-28b7-4ef9-b453-0997550050bb",
   "metadata": {},
   "source": [
    "# Weekly activities\n",
    "1. Apply custom sharpening kernel of aperture size 3 and 5 as shown below on 'native-bee.png':  \n",
    "$ 3 \\times 3$ kernel:  \n",
    "$ \\begin{bmatrix}\n",
    "0 & -1 & 0 \\\\\n",
    "-1 & 5 & -1 \\\\\n",
    "0 & -1 & 0\\\\\n",
    "\\end{bmatrix}$  \n",
    "$ 5 \\times 5$ kernel:  \n",
    "$ \\begin{bmatrix}\n",
    "-1 & -1 & -1 & -1 & -1 \\\\\n",
    "-1 & -1 & -1 & -1 & -1 \\\\\n",
    "-1 & -1 & 25 & -1 & -1 \\\\\n",
    "-1 & -1 & -1 & -1 & -1 \\\\\n",
    "-1 & -1 & -1 & -1 & -1 \\\\\n",
    "\\end{bmatrix}$  \n",
    "What can you infer from the outputs?\n",
    "2. Apply different image smoothing techniques (e.g. average filter, Gaussian kernel and median filter) on 'noise_lena.jpg' and display the resulting images after the convolution. Comment on the outcomes and deduce the type of noise present on the image.\n",
    "3. Write a program to *segment the boat and the people on it from the background*. Follow the instruction below:\n",
    "    - Use 'boat.jpg' as input.\n",
    "    - Apply Otsu thresholding.\n",
    "    - Draw bounding box to identify the region where the boat and people are located."
   ]
  },
  {
   "cell_type": "code",
   "execution_count": null,
   "id": "33b75664-71c3-4526-a94e-2301ec2683aa",
   "metadata": {},
   "outputs": [],
   "source": [
    "# Question 1 \n",
    "img = cv.imread(\"images/native-bee.png\")\n",
    "\n",
    "# Define the kernels\n",
    "kernel_3x3 = np.array([[0, -1, 0],\n",
    "                       [-1, 5, -1],\n",
    "                       [0, -1, 0]])\n",
    "\n",
    "kernel_5x5 = np.array([[-1, -1, -1, -1, -1],\n",
    "                       [-1, -1, -1, -1, -1],\n",
    "                       [-1, -1, 25, -1, -1],\n",
    "                       [-1, -1, -1, -1, -1],\n",
    "                       [-1, -1, -1, -1, -1]])\n",
    "\n",
    "# Apply the kernels\n",
    "dst_3x3 = cv.filter2D(img, -1, kernel_3x3)\n",
    "dst_5x5 = cv.filter2D(img, -1, kernel_5x5)\n",
    "\n",
    "# Display the images\n",
    "display_images([img, dst_3x3, dst_5x5], (\"Original\", \"3x3 Sharpened\", \"5x5 Sharpened\"))\n",
    "\n"
   ]
  },
  {
   "cell_type": "markdown",
   "id": "f8ea9987-97bc-4679-9a25-fc1ec8abc992",
   "metadata": {},
   "source": [
    "3x3 Kernel:\n",
    "This kernel is performing as intended. It's sharpening the image by enhancing edges and fine details without causing excessive artifacts. The 3x3 kernel is generally considered a good balance for sharpening, as it improves image clarity without being too aggressive. \n",
    "<br>\n",
    "\n",
    "5x5 Kernel:\n",
    "I've observed that this kernel is \"overly sharpening\" the image. This is due to its more aggressive nature:\n",
    "The central value (25) is much higher compared to the surrounding values (-1), creating a very strong contrast.\n",
    "The larger size (5x5) affects a wider area around each pixel, leading to more pronounced effects."
   ]
  },
  {
   "cell_type": "code",
   "execution_count": null,
   "id": "d26b6248-c7e8-4e45-9942-160f998f5b6b",
   "metadata": {},
   "outputs": [],
   "source": [
    "# Question 2\n",
    "img = cv.imread(\"images/noise_lena.jpg\")\n",
    "\n",
    "# Apply average filter\n",
    "avg_filter = cv.blur(img, (5,5))\n",
    "\n",
    "# Apply Gaussian filter\n",
    "gaussian_filter = cv.GaussianBlur(img, (5,5), 0)\n",
    "\n",
    "# Apply median filter\n",
    "median_filter = cv.medianBlur(img, 5)\n",
    "\n",
    "# Display the images\n",
    "display_images([img, avg_filter, gaussian_filter, median_filter], \n",
    "               (\"Original\", \"Average Filter\", \"Gaussian Filter\", \"Median Filter\"))"
   ]
  },
  {
   "cell_type": "markdown",
   "id": "26e7f6ea-96a7-489d-b3d5-a1aa42c42e7f",
   "metadata": {},
   "source": [
    "Average Filter:\n",
    "The fact that the image is a bit blurry but still contains noise suggests that the average filter is struggling to completely remove the noise. This is typical when dealing with impulse noise (like salt-and-pepper), as averaging can reduce but not eliminate such noise. <br><br>\n",
    "Gaussian Filter:\n",
    "The stronger presence of noise after applying the Gaussian filter is interesting. This suggests that the noise is not Gaussian in nature. Gaussian filters are optimized for reducing Gaussian noise, so their poor performance here is a strong indicator that we're dealing with a different type of noise.<br><br>\n",
    "Median Filter:\n",
    "The excellent performance of the median filter, removing all noises without significant image degradation, is a very strong indicator that the primary noise type in this image is salt-and-pepper noise (also known as impulse noise).<br><br>\n",
    "\n",
    "Conclusion:\n",
    "Based on these observations, we can deduce that the image most likely contains salt-and-pepper noise.<br><br>\n",
    "\n",
    "Reasons:<br><br>\n",
    "Median filters are particularly effective at removing salt-and-pepper noise while preserving edges and details. The fact that it removed all noise supports this conclusion.<br><br>\n",
    "Average and Gaussian filters perform poorly on salt-and-pepper noise because they spread the effect of the noise pixels to neighboring pixels, which can actually make the noise more noticeable or create a blurry effect.<br><br>\n",
    "The ineffectiveness of the Gaussian filter strongly suggests that the noise is not Gaussian in nature."
   ]
  },
  {
   "cell_type": "code",
   "execution_count": null,
   "id": "20b79fb9-997a-4424-a716-8195cbdc25a2",
   "metadata": {},
   "outputs": [],
   "source": [
    "# Question 3\n",
    "# Load the image\n",
    "image = cv.imread('images/boat.jpg')\n",
    "\n",
    "# Convert the image to grayscale\n",
    "gray = cv.cvtColor(image, cv.COLOR_BGR2GRAY)\n",
    "\n",
    "# Apply Otsu's thresholding\n",
    "_, thresh = cv.threshold(gray, 0, 255, cv.THRESH_BINARY_INV + cv.THRESH_OTSU)\n",
    "\n",
    "# Find contours in the thresholded image\n",
    "contours, _ = cv.findContours(thresh, cv.RETR_EXTERNAL, cv.CHAIN_APPROX_SIMPLE)\n",
    "\n",
    "# Find the largest contour (assuming it's the boat with people)\n",
    "largest_contour = max(contours, key=cv.contourArea)\n",
    "\n",
    "# Get the bounding rectangle\n",
    "x, y, w, h = cv.boundingRect(largest_contour)\n",
    "\n",
    "# Draw the bounding box on the original image\n",
    "result = image.copy()\n",
    "cv.rectangle(result, (x, y), (x+w, y+h), (0, 255, 0), 2)\n",
    "\n",
    "# Display the results\n",
    "cv.imshow('Result with Bounding Box', result)\n",
    "cv.waitKey(0)\n",
    "cv.destroyAllWindows()"
   ]
  },
  {
   "cell_type": "code",
   "execution_count": null,
   "id": "8efa5c1e-3c1b-4f50-b296-3e0d054f42b2",
   "metadata": {},
   "outputs": [],
   "source": []
  },
  {
   "cell_type": "code",
   "execution_count": null,
   "id": "d3c47976-a58b-444c-8581-0e8d14228abf",
   "metadata": {},
   "outputs": [],
   "source": []
  }
 ],
 "metadata": {
  "kernelspec": {
   "display_name": "Python 3 (ipykernel)",
   "language": "python",
   "name": "python3"
  },
  "language_info": {
   "codemirror_mode": {
    "name": "ipython",
    "version": 3
   },
   "file_extension": ".py",
   "mimetype": "text/x-python",
   "name": "python",
   "nbconvert_exporter": "python",
   "pygments_lexer": "ipython3",
   "version": "3.11.7"
  }
 },
 "nbformat": 4,
 "nbformat_minor": 5
}
