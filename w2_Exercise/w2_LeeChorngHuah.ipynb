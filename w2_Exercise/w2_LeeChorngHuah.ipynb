{
 "cells": [
  {
   "cell_type": "markdown",
   "id": "fb9bb77b-4199-4c46-bd4e-d8313c7cdcc6",
   "metadata": {},
   "source": [
    "# Tutorial 2"
   ]
  },
  {
   "cell_type": "markdown",
   "id": "322805d7-3281-48e8-925b-8c5b1702a94b",
   "metadata": {
    "jp-MarkdownHeadingCollapsed": true
   },
   "source": [
    "1. Find the range of values for each of the following data types:\n",
    "    * `uint8`\n",
    "    * `int8`\n",
    "    * `uint32`\n",
    "    * `int32`]"
   ]
  },
  {
   "cell_type": "code",
   "execution_count": 1,
   "id": "44fcc0d7-4c60-4705-b68e-4eaccd1d86f6",
   "metadata": {},
   "outputs": [
    {
     "name": "stdout",
     "output_type": "stream",
     "text": [
      " 1. The range of values for uint8 is 0 to 255\n",
      " 2. The range of values for int8 is -128 to 127\n",
      " 3. The range of values for uint32 is 0 to 4294967295\n",
      " 4. The range of values for int32 is -2147483648 to 2147483647\n"
     ]
    }
   ],
   "source": [
    "import numpy as np\n",
    "\n",
    "# Define the range for uint8\n",
    "uint8_min = np.iinfo(np.uint8).min\n",
    "uint8_max = np.iinfo(np.uint8).max\n",
    "\n",
    "# Define the range for int8\n",
    "int8_min = np.iinfo(np.int8).min\n",
    "int8_max = np.iinfo(np.int8).max\n",
    "\n",
    "# Define the range for uint32\n",
    "uint32_min = np.iinfo(np.uint32).min\n",
    "uint32_max = np.iinfo(np.uint32).max\n",
    "\n",
    "# Define the range for int32\n",
    "int32_min = np.iinfo(np.int32).min\n",
    "int32_max = np.iinfo(np.int32).max\n",
    "\n",
    "print(f\" 1. The range of values for uint8 is {uint8_min} to {uint8_max}\")\n",
    "print(f\" 2. The range of values for int8 is {int8_min} to {int8_max}\")\n",
    "print(f\" 3. The range of values for uint32 is {uint32_min} to {uint32_max}\")\n",
    "print(f\" 4. The range of values for int32 is {int32_min} to {int32_max}\")"
   ]
  },
  {
   "cell_type": "markdown",
   "id": "53e78f89-dc76-4458-a89e-7fcae400ac25",
   "metadata": {},
   "source": [
    "2. Try to write a simple custom function to determine whether a given integer is odd or even number."
   ]
  },
  {
   "cell_type": "code",
   "execution_count": 11,
   "id": "41fa9832-f779-4e71-81b2-749dff32152c",
   "metadata": {},
   "outputs": [],
   "source": [
    "def odd_even(x):\n",
    "    \"\"\"function to check whether the integer is odd or even Input\n",
    "    \n",
    "    x: must be integer\n",
    "    \n",
    "    Return a statement of whether the integer is odd or even\"\"\"\n",
    "    \n",
    "    if isinstance(x,int): #this fuctinon to check whether the input is integer or not\n",
    "        if x % 2 == 0 :\n",
    "            print(f\"{x} is even\")\n",
    "        else:\n",
    "            print(f\"{x} is odd\")\n",
    "\n",
    "    else:\n",
    "        print(f\"{x} is not an integer\")"
   ]
  },
  {
   "cell_type": "code",
   "execution_count": 12,
   "id": "db91050b-200f-4492-a25e-c4072b2e65a4",
   "metadata": {},
   "outputs": [
    {
     "name": "stdin",
     "output_type": "stream",
     "text": [
      "Enter an integer:  3\n"
     ]
    },
    {
     "name": "stdout",
     "output_type": "stream",
     "text": [
      "3 is odd\n"
     ]
    }
   ],
   "source": [
    "num = int(input(\"Enter an integer: \"))\n",
    "odd_even(num)"
   ]
  },
  {
   "cell_type": "markdown",
   "id": "e2102559-e077-42b3-a467-25f61c51e97e",
   "metadata": {},
   "source": [
    "3. Write a simple example code to show that Numpy is more efficient in numerical computation of large arrays of data than equivalent Python list."
   ]
  },
  {
   "cell_type": "code",
   "execution_count": 6,
   "id": "2485654d-c565-4cfb-a874-04d69c43cfbe",
   "metadata": {},
   "outputs": [
    {
     "name": "stdout",
     "output_type": "stream",
     "text": [
      "Time taken by Python Lists to perform multiplication: 0.09662270545959473 seconds\n",
      "Time taken by NumPy Arrays to perform multiplication: 0.0019519329071044922 seconds\n"
     ]
    }
   ],
   "source": [
    "# importing required packages\n",
    "import numpy as np\n",
    "import time\n",
    "\n",
    "# size of arrays and lists\n",
    "size = 1000000\n",
    "\n",
    "# declaring lists\n",
    "list1 = range(size)\n",
    "list2 = range(size)\n",
    "\n",
    "# declaring arrays\n",
    "array1 = np.arange(size)\n",
    "array2 = np.arange(size)\n",
    "\n",
    "# capturing time before the multiplication of Python lists\n",
    "initialTime = time.time()\n",
    "\n",
    "# multiplying elements of both the lists and stored in another list\n",
    "resultantList = [(a * b) for a, b in zip(list1, list2)]\n",
    "\n",
    "# calculating execution time\n",
    "print(\"Time taken by Python Lists to perform multiplication:\",\n",
    "\t(time.time() - initialTime),\n",
    "\t\"seconds\")\n",
    "\n",
    "# capturing time before the multiplication of Numpy arrays\n",
    "initialTime = time.time()\n",
    "\n",
    "# multiplying elements of both the Numpy arrays and stored in another Numpy array\n",
    "resultantArray = array1 * array2\n",
    "\n",
    "# calculating execution time\n",
    "print(\"Time taken by NumPy Arrays to perform multiplication:\",\n",
    "\t(time.time() - initialTime),\n",
    "\t\"seconds\")\n"
   ]
  },
  {
   "cell_type": "code",
   "execution_count": 7,
   "id": "467fc67b-0dca-479f-bad5-986a28a2b5f9",
   "metadata": {},
   "outputs": [
    {
     "name": "stdout",
     "output_type": "stream",
     "text": [
      "The computation time for numpy array\n",
      "CPU times: total: 15.6 ms\n",
      "Wall time: 17.6 ms\n",
      "\n",
      "The computation time for python list\n",
      "CPU times: total: 516 ms\n",
      "Wall time: 513 ms\n"
     ]
    }
   ],
   "source": [
    "# Alternative way\n",
    "import numpy as np\n",
    "import time\n",
    "\n",
    "my_arr = np.arange(1000000)\n",
    "my_list = list(range(1000000))\n",
    "\n",
    "##Let's multiply each sequence by 2:\n",
    "print(\"The computation time for numpy array\")\n",
    "%time for _ in range(10): my_arr2 = my_arr * 2\n",
    "\n",
    "print(\"\\nThe computation time for python list\")\n",
    "%time for _ in range(10): my_list2 = [x * 2 for x in my_list]"
   ]
  },
  {
   "cell_type": "markdown",
   "id": "a5325948-aba5-4edd-893b-f468aaec5769",
   "metadata": {},
   "source": [
    "4. Run the following codes:\n",
    "```python\n",
    "    # create a 1D array\n",
    "    my_arr = np.arange(10)\n",
    "    print(\"Initial my_arr: \", my_arr)\n",
    "    arr_slice = my_arr\n",
    "    print(\"Initial arr_slice: \", arr_slice)\n",
    "\n",
    "    # change the first element of arr_slice\n",
    "    arr_slice[0] = 55\n",
    "\n",
    "    print(\"my_arr: \", my_arr)\n",
    "    print(\"arr_slice: \", arr_slice)\n",
    "```\n",
    "\n",
    "What do you notice? Propose a way to reassign `arr_slice` with new value **without modifying** `my_arr`."
   ]
  },
  {
   "cell_type": "code",
   "execution_count": 23,
   "id": "ac9f63c4-e0cd-4007-8c29-af652f43531e",
   "metadata": {},
   "outputs": [
    {
     "name": "stdout",
     "output_type": "stream",
     "text": [
      "Initial my_arr:  [0 1 2 3 4 5 6 7 8 9]\n",
      "Initial arr_slice:  [0 1 2 3 4 5 6 7 8 9]\n",
      "my_arr:  [55  1  2  3  4  5  6  7  8  9]\n",
      "arr_slice:  [55  1  2  3  4  5  6  7  8  9]\n"
     ]
    }
   ],
   "source": [
    "    # create a 1D array\n",
    "    my_arr = np.arange(10)\n",
    "    print(\"Initial my_arr: \", my_arr)\n",
    "    arr_slice = my_arr\n",
    "    print(\"Initial arr_slice: \", arr_slice)\n",
    "\n",
    "    # change the first element of arr_slice\n",
    "    arr_slice[0] = 55\n",
    "\n",
    "    print(\"my_arr: \", my_arr)\n",
    "    print(\"arr_slice: \", arr_slice)"
   ]
  },
  {
   "cell_type": "code",
   "execution_count": 24,
   "id": "3cd32695-d9e9-4cd4-ac18-0d20480e292b",
   "metadata": {},
   "outputs": [
    {
     "name": "stdout",
     "output_type": "stream",
     "text": [
      "Initial my_arr:  [0 1 2 3 4 5 6 7 8 9]\n",
      "Initial arr_slice:  [0 1 2 3 4 5 6 7 8 9]\n",
      "my_arr:  [0 1 2 3 4 5 6 7 8 9]\n",
      "arr_slice:  [55  1  2  3  4  5  6  7  8  9]\n"
     ]
    }
   ],
   "source": [
    "\"\"\"\n",
    "Initially, both my_arr and arr_slice are identical arrays: [0, 1, 2, 3, 4, 5, 6, 7, 8, 9].\n",
    "After changing the first element of arr_slice to 55, both my_arr and arr_slice are modified to: [55, 1, 2, 3, 4, 5, 6, 7, 8, 9].\n",
    "This happens because arr_slice is just a reference to my_arr. Changing arr_slice affects my_arr as they both point to the same underlying data.\n",
    "\n",
    "To reassign arr_slice with a new value without modifying my_arr, you can use the copy method to create a new independent copy of the array.\n",
    "Using the copy method ensures that arr_slice is an independent array, so changes to it do not affect my_arr.\n",
    "\"\"\"\n",
    "import numpy as np\n",
    "\n",
    "# Create a 1D array\n",
    "my_arr = np.arange(10)\n",
    "print(\"Initial my_arr: \", my_arr)\n",
    "arr_slice = my_arr.copy()  # Create a copy of my_arr\n",
    "print(\"Initial arr_slice: \", arr_slice)\n",
    "\n",
    "# Change the first element of arr_slice\n",
    "arr_slice[0] = 55\n",
    "\n",
    "print(\"my_arr: \", my_arr)\n",
    "print(\"arr_slice: \", arr_slice)"
   ]
  },
  {
   "cell_type": "markdown",
   "id": "93f65340-4631-4e65-b409-65b893201c4d",
   "metadata": {},
   "source": [
    "5. Create an image as shown as the following with the help of Numpy and matplotlib modules. You can arbitrarily set the dimension of the image and white circular spot at the middle."
   ]
  },
  {
   "cell_type": "code",
   "execution_count": 26,
   "id": "3a1e3cb5-52a0-42dc-9480-c8a52be7ccd3",
   "metadata": {},
   "outputs": [
    {
     "data": {
      "image/png": "[encoded data removed]",
      "text/plain": [
       "<Figure size 640x480 with 1 Axes>"
      ]
     },
     "metadata": {},
     "output_type": "display_data"
    }
   ],
   "source": [
    "import numpy as np\n",
    "import matplotlib.pyplot as plt\n",
    "\n",
    "def draw_filled_circle(radius, dim=None):\n",
    "    if dim is None:\n",
    "        dim = (radius * 10, radius * 10)\n",
    "    \n",
    "    # Create a zero matrix of the specified dimensions\n",
    "    circle = np.zeros(dim)\n",
    "    \n",
    "    # Create coordinate grids x and y\n",
    "    x, y = np.meshgrid(np.arange(dim[0]), np.arange(dim[1]))\n",
    "    \n",
    "    # Calculate the distance from the center\n",
    "    distance = np.sqrt((x - dim[0] / 2)**2 + (y - dim[1] / 2)**2)\n",
    "    \n",
    "    # Create a mask where the distance is less than or equal to the radius\n",
    "    mask = distance <= radius\n",
    "    \n",
    "    # Set the circle array values to 1 where the mask is True\n",
    "    circle[mask] = 1\n",
    "    \n",
    "    return circle\n",
    "\n",
    "# Example usage\n",
    "radius = 20\n",
    "circle = draw_filled_circle(radius)\n",
    "\n",
    "# Display the circle\n",
    "plt.imshow(circle, cmap='gray')\n",
    "plt.title(\"Generated Filled Circle\")\n",
    "plt.show()"
   ]
  }
 ],
 "metadata": {
  "kernelspec": {
   "display_name": "Python 3 (ipykernel)",
   "language": "python",
   "name": "python3"
  },
  "language_info": {
   "codemirror_mode": {
    "name": "ipython",
    "version": 3
   },
   "file_extension": ".py",
   "mimetype": "text/x-python",
   "name": "python",
   "nbconvert_exporter": "python",
   "pygments_lexer": "ipython3",
   "version": "3.11.7"
  }
 },
 "nbformat": 4,
 "nbformat_minor": 5
}
