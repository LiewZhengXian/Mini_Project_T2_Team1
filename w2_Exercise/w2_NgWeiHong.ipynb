{
 "cells": [
  {
   "cell_type": "markdown",
   "id": "b0a0b6d1-9d56-4cd5-8c76-01f8f42f0cfe",
   "metadata": {},
   "source": [
    "## Weekly Activity Exercise Answer"
   ]
  },
  {
   "cell_type": "code",
   "execution_count": 1,
   "id": "5667dd61-33cc-40be-b231-8eb60073a9e7",
   "metadata": {},
   "outputs": [
    {
     "name": "stdout",
     "output_type": "stream",
     "text": [
      "Machine parameters for uint8\n",
      "---------------------------------------------------------------\n",
      "min = 0\n",
      "max = 255\n",
      "---------------------------------------------------------------\n",
      "\n",
      "Machine parameters for int8\n",
      "---------------------------------------------------------------\n",
      "min = -128\n",
      "max = 127\n",
      "---------------------------------------------------------------\n",
      "\n",
      "Machine parameters for uint32\n",
      "---------------------------------------------------------------\n",
      "min = 0\n",
      "max = 4294967295\n",
      "---------------------------------------------------------------\n",
      "\n",
      "Machine parameters for int32\n",
      "---------------------------------------------------------------\n",
      "min = -2147483648\n",
      "max = 2147483647\n",
      "---------------------------------------------------------------\n",
      "\n"
     ]
    }
   ],
   "source": [
    "#Question 1 Answer:\n",
    "import numpy as np\n",
    "\n",
    "print(np.iinfo(np.uint8))\n",
    "print(np.iinfo(np.int8))\n",
    "print(np.iinfo(np.uint32))\n",
    "print(np.iinfo(np.int32))\n",
    "\n"
   ]
  },
  {
   "cell_type": "code",
   "execution_count": 2,
   "id": "969ad53a-d5de-4b47-b314-e55a34a994ba",
   "metadata": {},
   "outputs": [
    {
     "name": "stdin",
     "output_type": "stream",
     "text": [
      "Enter an integer:  12\n"
     ]
    },
    {
     "name": "stdout",
     "output_type": "stream",
     "text": [
      "The number is Even.\n"
     ]
    }
   ],
   "source": [
    "#Question 2 Answer:\n",
    "def is_odd_or_even():\n",
    "    try:\n",
    "        number = int(input(\"Enter an integer: \"))\n",
    "        if number % 2 == 0:\n",
    "            return \"Even\"\n",
    "        else:\n",
    "            return \"Odd\"\n",
    "    except ValueError:\n",
    "        return \"Invalid input. Please enter a valid integer.\"\n",
    "\n",
    "# Call the function and print the result\n",
    "result = is_odd_or_even()\n",
    "print(f\"The number is {result}.\")\n"
   ]
  },
  {
   "cell_type": "code",
   "execution_count": 3,
   "id": "e0aeb021-48ea-4ce2-9d58-a9ae4e93c294",
   "metadata": {},
   "outputs": [
    {
     "name": "stdout",
     "output_type": "stream",
     "text": [
      "Sum of squares (Python list): 333332833333500000\n",
      "Time taken (Python list): 0.0657200813293457 seconds\n",
      "Sum of squares (NumPy array): 333332833333500000\n",
      "Time taken (NumPy array): 0.0024399757385253906 seconds\n",
      "NumPy is 26.93472737932382 times faster than Python lists for this computation.\n"
     ]
    }
   ],
   "source": [
    "#Question 3 Answer:\n",
    "import numpy as np\n",
    "import time\n",
    "\n",
    "# Size of the large array\n",
    "array_size = 1000000\n",
    "\n",
    "# Creating a large array using Python list\n",
    "python_list = list(range(array_size))\n",
    "\n",
    "# Creating a large array using NumPy\n",
    "numpy_array = np.arange(array_size)\n",
    "\n",
    "# Function to calculate the sum of squares using Python list\n",
    "def sum_of_squares_python(data):\n",
    "    return sum([x**2 for x in data])\n",
    "\n",
    "# Function to calculate the sum of squares using NumPy\n",
    "def sum_of_squares_numpy(data):\n",
    "    return np.sum(data**2)\n",
    "\n",
    "# Timing the Python list computation\n",
    "start_time = time.time()\n",
    "sum_python = sum_of_squares_python(python_list)\n",
    "end_time = time.time()\n",
    "python_time = end_time - start_time\n",
    "\n",
    "# Timing the NumPy computation\n",
    "start_time = time.time()\n",
    "sum_numpy = sum_of_squares_numpy(numpy_array)\n",
    "end_time = time.time()\n",
    "numpy_time = end_time - start_time\n",
    "\n",
    "# Print the results\n",
    "print(f\"Sum of squares (Python list): {sum_python}\")\n",
    "print(f\"Time taken (Python list): {python_time} seconds\")\n",
    "\n",
    "print(f\"Sum of squares (NumPy array): {sum_numpy}\")\n",
    "print(f\"Time taken (NumPy array): {numpy_time} seconds\")\n",
    "\n",
    "# Compare the time taken\n",
    "print(f\"NumPy is {python_time / numpy_time} times faster than Python lists for this computation.\")"
   ]
  },
  {
   "cell_type": "code",
   "execution_count": 4,
   "id": "8793457e-316b-454d-9629-45fe6db2c017",
   "metadata": {},
   "outputs": [
    {
     "name": "stdout",
     "output_type": "stream",
     "text": [
      "Initial my_arr:  [0 1 2 3 4 5 6 7 8 9]\n",
      "Initial arr_slice:  [0 1 2 3 4 5 6 7 8 9]\n",
      "my_arr:  [0 1 2 3 4 5 6 7 8 9]\n",
      "arr_slice:  [55  1  2  3  4  5  6  7  8  9]\n"
     ]
    }
   ],
   "source": [
    "#Question 4 Ans:\n",
    "# create a 1D array\n",
    "my_arr = np.arange(10)\n",
    "print(\"Initial my_arr: \", my_arr)\n",
    "arr_slice = my_arr.copy() #add .copy()\n",
    "print(\"Initial arr_slice: \", arr_slice)\n",
    "\n",
    "# change the first element of arr_slice\n",
    "arr_slice[0] = 55\n",
    "\n",
    "print(\"my_arr: \", my_arr)\n",
    "print(\"arr_slice: \", arr_slice)\n"
   ]
  },
  {
   "cell_type": "code",
   "execution_count": 5,
   "id": "083b6c74-53d6-4cf5-b4bb-47a7508da505",
   "metadata": {},
   "outputs": [
    {
     "data": {
      "image/png": "[encoded data removed]",
      "text/plain": [
       "<Figure size 640x480 with 1 Axes>"
      ]
     },
     "metadata": {},
     "output_type": "display_data"
    }
   ],
   "source": [
    "#Question 5 Ans:\n",
    "import numpy as np\n",
    "import matplotlib.pyplot as plt\n",
    "\n",
    "# Set the dimensions of the image\n",
    "height, width = 512, 512\n",
    "\n",
    "# Create a black image\n",
    "image = np.zeros((height, width))\n",
    "\n",
    "# Define the center and radius of the circle\n",
    "center_y, center_x = height // 2, width // 2\n",
    "radius = 50\n",
    "\n",
    "# Create the white circular spot\n",
    "Y, X = np.ogrid[:height, :width]\n",
    "dist_from_center = np.sqrt((X - center_x)**2 + (Y - center_y)**2)\n",
    "mask = dist_from_center <= radius\n",
    "image[mask] = 1  # Set the circle area to white\n",
    "\n",
    "# Display the image\n",
    "plt.imshow(image, cmap='gray')\n",
    "plt.axis('off')  # Turn off the axis\n",
    "plt.show()\n"
   ]
  },
  {
   "cell_type": "code",
   "execution_count": null,
   "id": "0e07d2f8-c212-41ea-93a5-52f7a5f4687a",
   "metadata": {},
   "outputs": [],
   "source": []
  }
 ],
 "metadata": {
  "kernelspec": {
   "display_name": "Python 3 (ipykernel)",
   "language": "python",
   "name": "python3"
  },
  "language_info": {
   "codemirror_mode": {
    "name": "ipython",
    "version": 3
   },
   "file_extension": ".py",
   "mimetype": "text/x-python",
   "name": "python",
   "nbconvert_exporter": "python",
   "pygments_lexer": "ipython3",
   "version": "3.12.4"
  }
 },
 "nbformat": 4,
 "nbformat_minor": 5
}
