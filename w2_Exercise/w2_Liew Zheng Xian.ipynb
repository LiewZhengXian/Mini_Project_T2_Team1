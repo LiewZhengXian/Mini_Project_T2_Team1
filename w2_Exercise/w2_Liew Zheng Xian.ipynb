{
 "cells": [
  {
   "cell_type": "markdown",
   "id": "3ee3102d",
   "metadata": {},
   "source": [
    "# Tutorial week 2\n",
    "\n",
    "Learning outcomes:\n",
    "1. Python fundamentals\n",
    "    * Basic syntax\n",
    "    * Data types\n",
    "    * Data structures\n",
    "    * Custom function\n",
    "    * `Numpy` and `matplotlib` modules\n",
    "3. Familiar with the creation of custom images."
   ]
  },
  {
   "cell_type": "markdown",
   "id": "1a5d8775",
   "metadata": {},
   "source": [
    "## Python fundamentals\n",
    "\n",
    "### Basic syntax"
   ]
  },
  {
   "cell_type": "code",
   "execution_count": 1,
   "id": "dc6957b6",
   "metadata": {},
   "outputs": [
    {
     "name": "stdout",
     "output_type": "stream",
     "text": [
      "Hello World!\n"
     ]
    }
   ],
   "source": [
    "print(\"Hello World!\")\n",
    "# You can comment in codeblock using # at the front"
   ]
  },
  {
   "cell_type": "markdown",
   "id": "ce9161ab",
   "metadata": {},
   "source": [
    "### Data types\n",
    "* floating point numbers, e.g. `float32` and `float64`.\n",
    "* complex number\n",
    "* string\n",
    "* integer\n",
    "* bytes\n",
    "* boolean\n",
    "\n",
    "| Class | Basic Types |\n",
    "| ------- | --------- |\n",
    "| `int` | Integer |\n",
    "| `float` | floating point number |\n",
    "| `complex` | Complex number |\n",
    "| `str` | string or character |\n",
    "| `bytes`, `bytearray` | bytes |\n",
    "| `bool` | Boolean |"
   ]
  },
  {
   "cell_type": "code",
   "execution_count": 2,
   "id": "aa85bb5f",
   "metadata": {},
   "outputs": [
    {
     "name": "stdout",
     "output_type": "stream",
     "text": [
      "<class 'int'>\n",
      "<class 'float'>\n",
      "<class 'complex'>\n",
      "<class 'str'>\n"
     ]
    }
   ],
   "source": [
    "x = 5\n",
    "y = 7.1\n",
    "z = 1j\n",
    "z1 = \"I am human\"\n",
    "\n",
    "print(type(x))\n",
    "print(type(y))\n",
    "print(type(z))\n",
    "print(type(z1))"
   ]
  },
  {
   "cell_type": "code",
   "execution_count": 3,
   "id": "4314cd73",
   "metadata": {},
   "outputs": [
    {
     "name": "stdout",
     "output_type": "stream",
     "text": [
      "0\n",
      "7.6\n"
     ]
    }
   ],
   "source": [
    "# We can do casting, specify the data type by these syntax, float(), int() and str()\n",
    "y = 8 / 10\n",
    "z = \"7.6\"\n",
    "\n",
    "print(int(y))\n",
    "print(float(z))"
   ]
  },
  {
   "cell_type": "markdown",
   "id": "deeaf4ef",
   "metadata": {},
   "source": [
    "### Data structures (native to Python)\n",
    "\n",
    "#### List and tuple\n",
    "List and tuple are both variables that can store multiple items. The major differences between the 2 are:\n",
    "* Elements in list is enclosed with square brackets, while tuple is written with parentheses.\n",
    "* List is changeable, while tuple is unchangeable."
   ]
  },
  {
   "cell_type": "code",
   "execution_count": 4,
   "id": "80e9c28a",
   "metadata": {},
   "outputs": [
    {
     "name": "stdout",
     "output_type": "stream",
     "text": [
      "['a', 'b', 'c']\n",
      "('a', 'b', 'c')\n"
     ]
    }
   ],
   "source": [
    "mylist = [\"a\", \"b\", \"c\"]\n",
    "print(mylist)\n",
    "\n",
    "mytuple = (\"a\", \"b\", \"c\")\n",
    "print(mytuple)"
   ]
  },
  {
   "cell_type": "code",
   "execution_count": 5,
   "id": "cb5d9b42",
   "metadata": {},
   "outputs": [
    {
     "name": "stdout",
     "output_type": "stream",
     "text": [
      "[1, 'b', 'c']\n"
     ]
    }
   ],
   "source": [
    "mylist[0] = 1\n",
    "print(mylist)"
   ]
  },
  {
   "cell_type": "code",
   "execution_count": 6,
   "id": "8cf0341f",
   "metadata": {},
   "outputs": [
    {
     "name": "stdout",
     "output_type": "stream",
     "text": [
      "Tuple is immutable\n"
     ]
    }
   ],
   "source": [
    "try:\n",
    "    mytuple[0] = 1\n",
    "except:\n",
    "    print(\"Tuple is immutable\")"
   ]
  },
  {
   "cell_type": "markdown",
   "id": "d7929cf7-c996-48ed-ad7b-04392cc27566",
   "metadata": {},
   "source": [
    "#### dictionary\n",
    "Dictionary are used to stire data values in key:value pairs. "
   ]
  },
  {
   "cell_type": "code",
   "execution_count": 7,
   "id": "a7565846-3e7d-47ef-89db-7c11f3b895b8",
   "metadata": {},
   "outputs": [
    {
     "name": "stdout",
     "output_type": "stream",
     "text": [
      "{'brand': 'Proton', 'model': 'Saga', 'year': 2022}\n"
     ]
    }
   ],
   "source": [
    "car = {\n",
    "    \"brand\": \"Proton\",\n",
    "    \"model\": \"Saga\",\n",
    "    \"year\": 2022\n",
    "}\n",
    "print(car)"
   ]
  },
  {
   "cell_type": "code",
   "execution_count": 8,
   "id": "06ef6eeb-2335-485d-9d40-3f4ea728955a",
   "metadata": {},
   "outputs": [
    {
     "name": "stdout",
     "output_type": "stream",
     "text": [
      "2022\n",
      "Saga\n"
     ]
    }
   ],
   "source": [
    "# access values in dictionary\n",
    "print(car[\"year\"])\n",
    "print(car.get(\"model\"))"
   ]
  },
  {
   "cell_type": "code",
   "execution_count": 9,
   "id": "e5680994-f5cb-4052-bbc8-a23d8c00057d",
   "metadata": {},
   "outputs": [
    {
     "name": "stdout",
     "output_type": "stream",
     "text": [
      "dict_keys(['brand', 'model', 'year'])\n",
      "dict_values(['Proton', 'Saga', 2022])\n",
      "dict_items([('brand', 'Proton'), ('model', 'Saga'), ('year', 2022)])\n"
     ]
    }
   ],
   "source": [
    "# keys, values and items\n",
    "print(car.keys())\n",
    "print(car.values())\n",
    "print(car.items())"
   ]
  },
  {
   "cell_type": "code",
   "execution_count": 10,
   "id": "fe99e003-d9f5-4e2a-82ef-9935709e6a76",
   "metadata": {},
   "outputs": [
    {
     "name": "stdout",
     "output_type": "stream",
     "text": [
      "Persona\n"
     ]
    }
   ],
   "source": [
    "# change the values of key\n",
    "car[\"model\"] = \"Persona\"\n",
    "print(car.get(\"model\"))"
   ]
  },
  {
   "cell_type": "markdown",
   "id": "300f8814-8fc8-4a82-9d74-36e254ad0930",
   "metadata": {},
   "source": [
    "### Exercise\n",
    "1. Can you create a list of squared number from $1^2$ to $10^2$?\n",
    "2. Create a dictionary with key as `grocer` and value as `prices` as shown below:\n",
    "```\n",
    "grocer = ['bread', 'milk', 'egg', 'vegetables', 'fish']\n",
    "prices = [4., 5.2, 4.2, 8.5, 20.6]\n",
    "```"
   ]
  },
  {
   "cell_type": "markdown",
   "id": "529a1202-c333-4c22-83df-b729a5f5dc74",
   "metadata": {},
   "source": [
    "## Custom function"
   ]
  },
  {
   "cell_type": "code",
   "execution_count": 11,
   "id": "ee0a3e44-4ea4-4ee4-81d8-930e7159510d",
   "metadata": {},
   "outputs": [],
   "source": [
    "def simple_add(x, y):\n",
    "    # It is a good practice to include docstring\n",
    "    \"\"\"Function to add 2 numbers:\n",
    "    Parameters:\n",
    "    x & y: must be numbers\n",
    "    \n",
    "    Returns:\n",
    "    result of addition\"\"\"\n",
    "    return (x + y)"
   ]
  },
  {
   "cell_type": "code",
   "execution_count": 12,
   "id": "0bbd7fe1-336e-4f0a-9a17-643d991c5530",
   "metadata": {},
   "outputs": [
    {
     "data": {
      "text/plain": [
       "12"
      ]
     },
     "execution_count": 12,
     "metadata": {},
     "output_type": "execute_result"
    }
   ],
   "source": [
    "simple_add(2, 10)"
   ]
  },
  {
   "cell_type": "markdown",
   "id": "f7b77111-f01e-4bfb-94b9-204c05f9b987",
   "metadata": {},
   "source": [
    "But the above function is not robust, since it will invoke error if user provide non-numeric arguments."
   ]
  },
  {
   "cell_type": "code",
   "execution_count": 13,
   "id": "8e82dadc-8512-4988-a3ff-8cdea0ea7560",
   "metadata": {},
   "outputs": [],
   "source": [
    "import numbers\n",
    "\n",
    "def simple_add(x, y):\n",
    "    \"\"\"Function to add 2 numbers:\n",
    "    Parameters:\n",
    "    x & y: must be numbers\n",
    "    \n",
    "    Returns:\n",
    "    result of addition\"\"\"\n",
    "\n",
    "    if isinstance(x, numbers.Number) and isinstance(y, numbers.Number):\n",
    "        return x + y\n",
    "    else:\n",
    "        print(\"Invalid input argument\")"
   ]
  },
  {
   "cell_type": "code",
   "execution_count": 14,
   "id": "43ceea52-a888-413b-8d83-253123f10bb2",
   "metadata": {},
   "outputs": [
    {
     "data": {
      "text/plain": [
       "10"
      ]
     },
     "execution_count": 14,
     "metadata": {},
     "output_type": "execute_result"
    }
   ],
   "source": [
    "simple_add(20, -10)"
   ]
  },
  {
   "cell_type": "code",
   "execution_count": 15,
   "id": "b424b728-dd0a-4b8b-9bec-ceb3b6606794",
   "metadata": {},
   "outputs": [
    {
     "name": "stdout",
     "output_type": "stream",
     "text": [
      "Invalid input argument\n"
     ]
    }
   ],
   "source": [
    "simple_add(7, \"a\")"
   ]
  },
  {
   "cell_type": "markdown",
   "id": "9a7e8bb6-0e23-4398-bd2f-40754414cb02",
   "metadata": {},
   "source": [
    "Another way to control Exception: use `try` and `except` blocks"
   ]
  },
  {
   "cell_type": "code",
   "execution_count": 16,
   "id": "67967ecb-55d3-43d1-abfd-6e510a30577f",
   "metadata": {},
   "outputs": [],
   "source": [
    "def simple_add(x, y):\n",
    "    \"\"\"Function to add 2 numbers:\n",
    "    Parameters:\n",
    "    x & y: must be numbers\n",
    "    \n",
    "    Returns:\n",
    "    result of addition\"\"\"\n",
    "    try:\n",
    "        return x + y\n",
    "    except Exception as e:\n",
    "        print(e)"
   ]
  },
  {
   "cell_type": "code",
   "execution_count": 17,
   "id": "525aac03-9071-43c7-b466-b801fb60c2f0",
   "metadata": {},
   "outputs": [
    {
     "name": "stdout",
     "output_type": "stream",
     "text": [
      "unsupported operand type(s) for +: 'int' and 'str'\n"
     ]
    }
   ],
   "source": [
    "simple_add(7, \"a\")"
   ]
  },
  {
   "cell_type": "markdown",
   "id": "0c60910d",
   "metadata": {},
   "source": [
    "## Numpy module\n",
    "Numpy is a Python module used for working with arrays. Numpy provides array object that is faster than Python lists. This is due to locality of reference. NumPy arrays are stored at one continuous place in memory unlike lists, so processes can access and manipulate them very efficiently. "
   ]
  },
  {
   "cell_type": "code",
   "execution_count": 18,
   "id": "82423681",
   "metadata": {},
   "outputs": [],
   "source": [
    "import numpy as np"
   ]
  },
  {
   "cell_type": "markdown",
   "id": "5c3a0a88",
   "metadata": {},
   "source": [
    "### Create Numpy array"
   ]
  },
  {
   "cell_type": "code",
   "execution_count": 19,
   "id": "25f37868",
   "metadata": {},
   "outputs": [
    {
     "name": "stdout",
     "output_type": "stream",
     "text": [
      "[1 2 3 4 5]\n",
      "<class 'numpy.ndarray'>\n"
     ]
    }
   ],
   "source": [
    "x = np.array([1, 2, 3, 4, 5])\n",
    "print(x)\n",
    "print(type(x))"
   ]
  },
  {
   "cell_type": "markdown",
   "id": "58472cda",
   "metadata": {},
   "source": [
    "### Array indexing"
   ]
  },
  {
   "cell_type": "code",
   "execution_count": 20,
   "id": "84e2c63b",
   "metadata": {},
   "outputs": [
    {
     "name": "stdout",
     "output_type": "stream",
     "text": [
      "1\n",
      "5\n"
     ]
    }
   ],
   "source": [
    "# Lets access the first and last element of x\n",
    "print(x[0])\n",
    "print(x[-1])"
   ]
  },
  {
   "cell_type": "code",
   "execution_count": 21,
   "id": "6e6ddf91",
   "metadata": {},
   "outputs": [
    {
     "name": "stdout",
     "output_type": "stream",
     "text": [
      "[ 1  2  3  4  5  6  7  8  9 10]\n"
     ]
    }
   ],
   "source": [
    "x1 = np.array([6, 7, 8, 9, 10])\n",
    "x_long = np.concatenate((x, x1), axis=None)\n",
    "print(x_long)"
   ]
  },
  {
   "cell_type": "markdown",
   "id": "1980dfd2",
   "metadata": {},
   "source": [
    "A `numpy.ndarray` is a generic multidimensional container for homogeneous data, i.e. all the elements must be of the same data type. Every array has a **shape**, which is expressed as tuple, indicating the size of each dimension as well as a **dtype**, an object describing the data type of the array."
   ]
  },
  {
   "cell_type": "code",
   "execution_count": 22,
   "id": "9b152e47",
   "metadata": {},
   "outputs": [
    {
     "name": "stdout",
     "output_type": "stream",
     "text": [
      "The shape of variable x_long: (10,)\n",
      "int64\n"
     ]
    }
   ],
   "source": [
    "print(f\"The shape of variable x_long: {x_long.shape}\")\n",
    "print(x_long.dtype)"
   ]
  },
  {
   "cell_type": "markdown",
   "id": "7e2449b5-2e09-4ae2-9e7f-1bc5cd3f01df",
   "metadata": {},
   "source": [
    "## Exercise\n",
    "1. Replace all the negative values in the list with zero.\n",
    "```\n",
    "ratings = [5, 2, 1, -1, 5, 3, 4, -1, 4]\n",
    "```"
   ]
  },
  {
   "cell_type": "markdown",
   "id": "a8c620e3",
   "metadata": {},
   "source": [
    "## Custom image using Numpy\n",
    "Now that you have some basic understanding of the data structure of digital image, lets try to create a custom image with the help of Numpy library. "
   ]
  },
  {
   "cell_type": "code",
   "execution_count": 23,
   "id": "331f3176",
   "metadata": {},
   "outputs": [],
   "source": [
    "import matplotlib.pyplot as plt"
   ]
  },
  {
   "cell_type": "code",
   "execution_count": 24,
   "id": "f696dbde",
   "metadata": {},
   "outputs": [
    {
     "data": {
      "image/png": "[encoded data removed]",
      "text/plain": [
       "<Figure size 640x480 with 1 Axes>"
      ]
     },
     "metadata": {},
     "output_type": "display_data"
    }
   ],
   "source": [
    "# Create a dark grayscale image (2D array)\n",
    "gray = np.zeros((200, 200), dtype=\"uint8\")\n",
    "\n",
    "plt.imshow(gray, cmap = plt.cm.gray)\n",
    "plt.title(\"grayscale black image\")\n",
    "plt.xticks([]), plt.yticks([])\n",
    "plt.show()"
   ]
  },
  {
   "cell_type": "code",
   "execution_count": 25,
   "id": "866c2803",
   "metadata": {},
   "outputs": [
    {
     "data": {
      "image/png": "[encoded data removed]",
      "text/plain": [
       "<Figure size 640x480 with 1 Axes>"
      ]
     },
     "metadata": {},
     "output_type": "display_data"
    }
   ],
   "source": [
    "white = 255 * np.ones((200, 200))\n",
    "white = np.uint8(white)\n",
    "\n",
    "plt.imshow(white, cmap = plt.cm.gray, vmin=0, vmax=255)\n",
    "plt.title(\"grayscale white image\")\n",
    "plt.xticks([]), plt.yticks([])\n",
    "plt.show()"
   ]
  },
  {
   "cell_type": "code",
   "execution_count": 26,
   "id": "ca1c5716",
   "metadata": {},
   "outputs": [
    {
     "data": {
      "image/png": "[encoded data removed]",
      "text/plain": [
       "<Figure size 640x480 with 1 Axes>"
      ]
     },
     "metadata": {},
     "output_type": "display_data"
    }
   ],
   "source": [
    "# Next, lets create random color image\n",
    "noise_color_img = np.random.randint(0, high=256, size = (100, 100, 3), dtype=np.uint8)\n",
    "\n",
    "plt.imshow(noise_color_img)\n",
    "plt.title(\"random noise color image\")\n",
    "plt.xticks([]), plt.yticks([])\n",
    "plt.show()"
   ]
  },
  {
   "attachments": {
    "5d4026b2-6b16-4515-8e03-3065096fa0e8.png": {
     "image/png": "[encoded data removed]"
    }
   },
   "cell_type": "markdown",
   "id": "7fe7b83f",
   "metadata": {},
   "source": [
    "## Exercises\n",
    "1. Find the range of values for each of the following data types:\n",
    "    * `uint8`\n",
    "    * `int8`\n",
    "    * `uint32`\n",
    "    * `int32`\n",
    "2. Try to write a simple custom function to determine whether a given integer is odd or even number.\n",
    "3. Write a simple example code to show that Numpy is more efficient in numerical computation of large arrays of data than equivalent Python list.\n",
    "4. Run the following codes:\n",
    "```python\n",
    "    # create a 1D array\n",
    "    my_arr = np.arange(10)\n",
    "    print(\"Initial my_arr: \", my_arr)\n",
    "    arr_slice = my_arr\n",
    "    print(\"Initial arr_slice: \", arr_slice)\n",
    "\n",
    "    # change the first element of arr_slice\n",
    "    arr_slice[0] = 55\n",
    "\n",
    "    print(\"my_arr: \", my_arr)\n",
    "    print(\"arr_slice: \", arr_slice)\n",
    "```\n",
    "\n",
    "What do you notice? Propose a way to reassign `arr_slice` with new value **without modifying** `my_arr`.\n",
    "\n",
    "5. Create an image as shown as the following with the help of Numpy and matplotlib modules. You can arbitrarily set the dimension of the image and white circular spot at the middle.\n",
    "\n",
    "![image.png](attachment:5d4026b2-6b16-4515-8e03-3065096fa0e8.png)"
   ]
  },
  {
   "cell_type": "markdown",
   "id": "2db753fc-b261-4ad3-b7ac-97ecb0d35cc2",
   "metadata": {},
   "source": [
    "## Answer\n",
    "1. Find the range of values for each of the following data types:\n",
    "    * `uint8 integer range: 0 to 255`  \n",
    "    * `int8  integer range: -128 to 127`\n",
    "    * `uint32  integer range: 0 to 4294967295`\n",
    "    * `int32   integer range: -2147483648 to 2147483647`"
   ]
  },
  {
   "cell_type": "code",
   "execution_count": 27,
   "id": "eeee5cea-4b60-44d2-8392-66522d2ae822",
   "metadata": {},
   "outputs": [
    {
     "name": "stdout",
     "output_type": "stream",
     "text": [
      "The integer range of uint8 is 0 to 255 \n",
      "The integer range of uint8 is -128 to 127 \n",
      "The integer range of uint8 is 0 to 4294967295 \n",
      "The integer range of uint8 is -2147483648 to 2147483647 \n"
     ]
    }
   ],
   "source": [
    "print(f'The integer range of uint8 is {np.iinfo(np.uint8).min} to {np.iinfo(np.uint8).max} ')\n",
    "print(f'The integer range of uint8 is {np.iinfo(np.int8).min} to {np.iinfo(np.int8).max} ')\n",
    "print(f'The integer range of uint8 is {np.iinfo(np.uint32).min} to {np.iinfo(np.uint32).max} ')\n",
    "print(f'The integer range of uint8 is {np.iinfo(np.int32).min} to {np.iinfo(np.int32).max} ')"
   ]
  },
  {
   "cell_type": "markdown",
   "id": "ebe1aefe-1495-438e-a83a-fb4ef331651d",
   "metadata": {},
   "source": [
    "2. Try to write a simple custom function to determine whether a given integer is odd or even number."
   ]
  },
  {
   "cell_type": "code",
   "execution_count": 28,
   "id": "05a6c299-08c5-4847-9ac7-026b87522663",
   "metadata": {},
   "outputs": [
    {
     "name": "stdout",
     "output_type": "stream",
     "text": [
      "0 is even.\n",
      "3 is odd.\n"
     ]
    }
   ],
   "source": [
    "#Assumed constraint: only integer are given as input\n",
    "def check_odd_or_even (i):\n",
    "    if (i%2==0):\n",
    "        print (f'{i} is even.')\n",
    "    else:\n",
    "        print (f'{i} is odd.')\n",
    "check_odd_or_even(0)\n",
    "check_odd_or_even(3)"
   ]
  },
  {
   "cell_type": "markdown",
   "id": "13871663-7015-4946-9405-cda19b30f745",
   "metadata": {},
   "source": [
    "3. Write a simple example code to show that Numpy is more efficient in numerical computation of large arrays of data than equivalent Python list."
   ]
  },
  {
   "cell_type": "code",
   "execution_count": 29,
   "id": "6d225b0c-78fb-49ff-b3d3-dfbf757b2ac8",
   "metadata": {},
   "outputs": [
    {
     "name": "stdout",
     "output_type": "stream",
     "text": [
      "Elasped time for Python list is 0.01195210000150837\n",
      "Elasped time for Numpy list is 0.0007612999906996265\n",
      "Elasped time for Python list is 0.919466100007412\n",
      "Elasped time for Numpy list is 0.01050020000548102\n",
      "Elasped time for Python list is 12.839168999998947\n",
      "Elasped time for Numpy list is 0.2089309000002686\n"
     ]
    }
   ],
   "source": [
    "import timeit\n",
    "import numpy as np\n",
    "def computation_test (size:int): \n",
    "    py_list = [i for i in range(size+1)]\n",
    "    py_tic = timeit.default_timer()\n",
    "    for i in py_list:\n",
    "        i += 1\n",
    "    py_toc = timeit.default_timer()\n",
    "    py_elasped_time = py_toc - py_tic\n",
    "    print(f'Elasped time for Python list is {py_elasped_time}')\n",
    "    np_arr = np.array([i for i in range(size+1)])\n",
    "    np_tic = timeit.default_timer()\n",
    "    np_arr+=1\n",
    "    np_toc = timeit.default_timer()\n",
    "    np_elasped_time = np_toc - np_tic\n",
    "    print(f'Elasped time for Numpy list is {np_elasped_time}')\n",
    "computation_test(100000)\n",
    "computation_test(10000000)\n",
    "computation_test(100000000)"
   ]
  },
  {
   "cell_type": "markdown",
   "id": "546a709b-afe3-4e00-9f7b-454ebece77db",
   "metadata": {},
   "source": [
    "4. Run the following codes:\n",
    "```python\n",
    "    # create a 1D array\n",
    "    my_arr = np.arange(10)\n",
    "    print(\"Initial my_arr: \", my_arr)\n",
    "    arr_slice = my_arr\n",
    "    print(\"Initial arr_slice: \", arr_slice)\n",
    "\n",
    "    # change the first element of arr_slice\n",
    "    arr_slice[0] = 55\n",
    "\n",
    "    print(\"my_arr: \", my_arr)\n",
    "    print(\"arr_slice: \", arr_slice)\n",
    "```\n",
    "\n",
    "What do you notice? Propose a way to reassign `arr_slice` with new value **without modifying** `my_arr`.\n",
    "\n",
    "Ans: The value of my_arr[0] changed to 55 eventhough it is not modified explicitly in the code"
   ]
  },
  {
   "cell_type": "code",
   "execution_count": 30,
   "id": "e121256d-258e-4c55-b863-bcdf239ad269",
   "metadata": {},
   "outputs": [
    {
     "name": "stdout",
     "output_type": "stream",
     "text": [
      "Initial my_arr:  [0 1 2 3 4 5 6 7 8 9]\n",
      "Initial arr_slice:  [0 1 2 3 4 5 6 7 8 9]\n",
      "my_arr:  [55  1  2  3  4  5  6  7  8  9]\n",
      "arr_slice:  [55  1  2  3  4  5  6  7  8  9]\n"
     ]
    }
   ],
   "source": [
    "    # create a 1D array\n",
    "    my_arr = np.arange(10)\n",
    "    print(\"Initial my_arr: \", my_arr)\n",
    "    arr_slice = my_arr\n",
    "    print(\"Initial arr_slice: \", arr_slice)\n",
    "\n",
    "    # change the first element of arr_slice\n",
    "    arr_slice[0] = 55\n",
    "\n",
    "    print(\"my_arr: \", my_arr)\n",
    "    print(\"arr_slice: \", arr_slice)"
   ]
  },
  {
   "cell_type": "code",
   "execution_count": 31,
   "id": "41b43d69-1607-4d47-ac04-d05dac7346d1",
   "metadata": {},
   "outputs": [
    {
     "name": "stdout",
     "output_type": "stream",
     "text": [
      "Initial my_arr:  [0 1 2 3 4 5 6 7 8 9]\n",
      "Initial arr_slice:  [0 1 2 3 4 5 6 7 8 9]\n",
      "my_arr:  [0 1 2 3 4 5 6 7 8 9]\n",
      "arr_slice:  [55  1  2  3  4  5  6  7  8  9]\n"
     ]
    }
   ],
   "source": [
    "    #Proposed solution\n",
    "    my_arr = np.arange(10)\n",
    "    print(\"Initial my_arr: \", my_arr)\n",
    "    #Change arr_slice = my_arr to arr_slice =arr_slice = np.copy(my_arr)\n",
    "    arr_slice = np.copy(my_arr)\n",
    "    print(\"Initial arr_slice: \", arr_slice)\n",
    "\n",
    "    # change the first element of arr_slice\n",
    "    arr_slice[0] = 55\n",
    "\n",
    "    print(\"my_arr: \", my_arr)\n",
    "\n",
    "    print(\"arr_slice: \", arr_slice)"
   ]
  },
  {
   "cell_type": "markdown",
   "id": "936918bb-f824-430c-b0a9-6103111bc220",
   "metadata": {},
   "source": [
    "5. Create an image as shown as the following with the help of Numpy and matplotlib modules. You can arbitrarily set the dimension of the image and white circular spot at the middle.\n",
    "   \n",
    "   ## Formula for a circle on a graph:\n",
    "   $${(x-a)^2 + (y-b)^2 = R^2 }$$ where (a,b) denotes the center and R is the radius of the circle.\n",
    "   \n",
    "   ## To get the area of the circle we need to find the coordinates (x,y) where $${(x-a)^2 + (y-b)^2 <= R^2 }$$"
   ]
  },
  {
   "cell_type": "code",
   "execution_count": 32,
   "id": "3b1d5e1e-2d9b-4681-ad02-8c7a4fca59d8",
   "metadata": {},
   "outputs": [
    {
     "data": {
      "image/png": "[encoded data removed]",
      "text/plain": [
       "<Figure size 640x480 with 1 Axes>"
      ]
     },
     "metadata": {},
     "output_type": "display_data"
    }
   ],
   "source": [
    "MAX_WIDTH = 1024\n",
    "MAX_HEIGHT = 1024\n",
    "R = 256\n",
    "a =  MAX_WIDTH/2\n",
    "b =  MAX_HEIGHT/2\n",
    "# Create a black image first\n",
    "black = 0 * np.ones((MAX_WIDTH,MAX_HEIGHT))\n",
    "# Draw the white circle in the middle\n",
    "for x,xv in enumerate (black):\n",
    "    for y,yv in enumerate(xv):\n",
    "        # Change the value to white color code for (x,y) that satisfy the circle formula\n",
    "        if ((x - a)**2 + (y - b)**2 <= R**2):\n",
    "            black[x,y] = 255\n",
    "black = np.uint8(black)\n",
    "plt.imshow(black, cmap = plt.cm.gray, vmin=0, vmax=255)\n",
    "plt.title(\"Circle in the middle\")\n",
    "plt.xticks([]), plt.yticks([])\n",
    "plt.show()"
   ]
  },
  {
   "cell_type": "code",
   "execution_count": null,
   "id": "f865e994-e330-4408-9d33-70dd2f4aeb58",
   "metadata": {},
   "outputs": [],
   "source": []
  }
 ],
 "metadata": {
  "kernelspec": {
   "display_name": "Python 3 (ipykernel)",
   "language": "python",
   "name": "python3"
  },
  "language_info": {
   "codemirror_mode": {
    "name": "ipython",
    "version": 3
   },
   "file_extension": ".py",
   "mimetype": "text/x-python",
   "name": "python",
   "nbconvert_exporter": "python",
   "pygments_lexer": "ipython3",
   "version": "3.12.4"
  }
 },
 "nbformat": 4,
 "nbformat_minor": 5
}
