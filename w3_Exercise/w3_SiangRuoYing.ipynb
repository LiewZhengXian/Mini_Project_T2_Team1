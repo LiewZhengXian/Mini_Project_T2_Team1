{
 "cells": [
  {
   "cell_type": "markdown",
   "id": "a6caaa24-6822-4407-8793-150652792233",
   "metadata": {},
   "source": [
    "# Exercises\n",
    "\n",
    "1. Load and display the image 'dog.jfif'. Save the image in png format.\n",
    "2. *Suggest 2 ways and write codes to display 2 images simultaneously.* You can use any image snapped from your handphone, downloaded from internet or images from weekly materials on MS teams. The 2 images are original color image and its corresponding grayscale image.\n",
    "3. Write codes that performs the following:\n",
    "    * Load the video “img_pexels.mp4” into the Python environment, resize it and display the videos with smaller frames (The frames can be of any size, as long as it is smaller). You can specify an arbitrary frame rate.\n",
    "    * Save it as a separate files: “smaller_img_pexels.avi” or \"smaller_img_pexels.mp4\"\n",
    "4. Enlarge the image \"dog.jfif\" by using different techniques:\n",
    "    1) Linear interpolation\n",
    "   2) Cubic interpolation\n",
    "   3) Nearest neighbor interpolation.\n",
    "\n",
    "Perform profiling on each method. Comment on the **execution times** and **quality of resulting images**."
   ]
  },
  {
   "cell_type": "code",
   "execution_count": 3,
   "id": "87706bdf-5e04-4cad-b7eb-1603aa71716c",
   "metadata": {},
   "outputs": [],
   "source": [
    "import sys\n",
    "assert sys.version_info >= (3, 8)\n",
    "\n",
    "import cv2 as cv\n",
    "import numpy as np"
   ]
  },
  {
   "cell_type": "markdown",
   "id": "744c3536-8140-4472-82a5-126c829d0842",
   "metadata": {},
   "source": [
    "### Exercise 1"
   ]
  },
  {
   "cell_type": "code",
   "execution_count": 13,
   "id": "6c6a3650-fa30-407e-9db1-f2f4ade3704f",
   "metadata": {},
   "outputs": [],
   "source": [
    "img = cv.imread(\"images/dog.jfif\")\n",
    "\n",
    "if img is not None:\n",
    "    cv.imshow(\"dog\", img)\n",
    "    k = cv.waitKey(0) & 0xFF\n",
    "    if k == ord('s'):\n",
    "        cv.imwrite(\"new_dog.png\", img)\n",
    "    cv.destroyAllWindows()"
   ]
  },
  {
   "cell_type": "markdown",
   "id": "5c634b18-d0d5-4d09-b881-7aa5a6c099b6",
   "metadata": {},
   "source": [
    "### Exercise 2"
   ]
  },
  {
   "cell_type": "code",
   "execution_count": 17,
   "id": "58d7bc4c-0ee5-4275-a962-a70d01ccb20a",
   "metadata": {},
   "outputs": [
    {
     "data": {
      "text/plain": [
       "('images/sunset.jpg', <http.client.HTTPMessage at 0x1e8c26754f0>)"
      ]
     },
     "execution_count": 17,
     "metadata": {},
     "output_type": "execute_result"
    }
   ],
   "source": [
    "from urllib.request import urlretrieve\n",
    "url = \"https://img.freepik.com/free-photo/beautiful-beach-sunrise-blue-sky_181624-26939.jpg?t=st=1720928850~exp=1720932450~hmac=b5d9a9b952ed05de8ae7a147ab0e75ec91db18c8466f20cf6470665d12b898d8&w=740\"\n",
    "urlretrieve(url, filename=\"images/sunset.jpg\")"
   ]
  },
  {
   "cell_type": "code",
   "execution_count": 19,
   "id": "ea061fe2-6f1f-47ed-a393-e15f9d4697ec",
   "metadata": {},
   "outputs": [],
   "source": [
    "# 1st way\n",
    "\n",
    "img = cv.imread(\"images/sunset.jpg\", cv.IMREAD_UNCHANGED)\n",
    "gray_img = cv.imread(\"images/sunset.jpg\", cv.IMREAD_GRAYSCALE)\n",
    "\n",
    "cv.imshow(\"ori\", img)\n",
    "cv.imshow(\"gray\", gray_img)\n",
    "cv.waitKey(0)\n",
    "cv.destroyAllWindows()"
   ]
  },
  {
   "cell_type": "code",
   "execution_count": 21,
   "id": "7358add8-30a2-4b09-a3cd-d2a1476397b4",
   "metadata": {},
   "outputs": [],
   "source": [
    "# 2nd way\n",
    "\n",
    "from utils import display_images\n",
    "display_images([img, gray_img], (\"bori\", \"gray\"))"
   ]
  },
  {
   "cell_type": "markdown",
   "id": "ef9bab72-591b-4f25-8839-84b518dcdc87",
   "metadata": {},
   "source": [
    "### Exercise 3"
   ]
  },
  {
   "cell_type": "code",
   "execution_count": 29,
   "id": "1ecf7496-9382-440e-8d74-9b07580d932f",
   "metadata": {},
   "outputs": [],
   "source": [
    "cap = cv.VideoCapture(\"videos/img_pexels.mp4\")\n",
    "\n",
    "if not cap.isOpened():\n",
    "    sys.exit(\"Invalid video path\")\n",
    "\n",
    "width = int(cap.get(3))\n",
    "height = int(cap.get(4))\n",
    "new_width = int(width / 2)\n",
    "new_height = int(height / 2)\n",
    "\n",
    "fourcc = cv.VideoWriter_fourcc(\"M\", \"J\", \"P\", \"G\")\n",
    "fps = 10\n",
    "out = cv.VideoWriter(\"smaller_img_pexels.avi\", fourcc, fps, (new_width, new_height))\n",
    "\n",
    "while cap.isOpened():\n",
    "    ret, frame = cap.read()\n",
    "\n",
    "    if not ret:\n",
    "        print(\"Frame not received\")\n",
    "        break\n",
    "\n",
    "    cv.namedWindow(\"frame\", cv.WINDOW_NORMAL)\n",
    "    cv.imshow(\"frame\", frame)\n",
    "\n",
    "    out.write(frame)\n",
    "\n",
    "    k = cv.waitKey(1) & 0xFF\n",
    "    if k == 27:\n",
    "        break\n",
    "\n",
    "cap.release()\n",
    "cv.destroyAllWindows()"
   ]
  },
  {
   "cell_type": "markdown",
   "id": "6f8ba768-05ce-4b04-93ee-2535518d58d0",
   "metadata": {},
   "source": [
    "### Exercise 4"
   ]
  },
  {
   "cell_type": "code",
   "execution_count": 52,
   "id": "ee25d879-217f-4506-98ee-97139dac0f65",
   "metadata": {},
   "outputs": [],
   "source": [
    "# linear interpolation\n",
    "\n",
    "img = cv.imread(\"images/dog.jfif\")\n",
    "img_resize = cv.resize(img, None, fx=1.5, fy=1.5, interpolation=cv.INTER_LINEAR)\n",
    "\n",
    "cv.imshow(\"upscale\", img_resize)\n",
    "cv.waitKey(0)\n",
    "cv.destroyAllWindows()\n",
    "\n",
    "# generally faster\n",
    "# provide smoother image compared to nearest neighbour"
   ]
  },
  {
   "cell_type": "code",
   "execution_count": 53,
   "id": "4f0241b3-3177-4e87-85fa-30ad30bdbfef",
   "metadata": {},
   "outputs": [],
   "source": [
    "# cubic interpolation\n",
    "img = cv.imread(\"images/dog.jfif\")\n",
    "img_resize = cv.resize(img, None, fx=1.5, fy=1.5, interpolation=cv.INTER_CUBIC)\n",
    "\n",
    "cv.imshow(\"upscale\", img_resize)\n",
    "cv.waitKey(0)\n",
    "cv.destroyAllWindows()\n",
    "\n",
    "# slower than linear interpolation\n",
    "# higher quality image with soomther gradients"
   ]
  },
  {
   "cell_type": "code",
   "execution_count": 48,
   "id": "eccf21df-e923-4abe-adc8-34d3e6cac5d0",
   "metadata": {},
   "outputs": [],
   "source": [
    "# nearest neighbour interpolation\n",
    "# cubic interpolation\n",
    "img = cv.imread(\"images/dog.jfif\")\n",
    "img_resize = cv.resize(img, None, fx=1.5, fy=1.5, interpolation=cv.INTER_NEAREST)\n",
    "\n",
    "cv.imshow(\"upscale\", img_resize)\n",
    "cv.waitKey(0)\n",
    "cv.destroyAllWindows()\n",
    "\n",
    "# fastest method\n",
    "# low quality image"
   ]
  }
 ],
 "metadata": {
  "kernelspec": {
   "display_name": "Python 3 (ipykernel)",
   "language": "python",
   "name": "python3"
  },
  "language_info": {
   "codemirror_mode": {
    "name": "ipython",
    "version": 3
   },
   "file_extension": ".py",
   "mimetype": "text/x-python",
   "name": "python",
   "nbconvert_exporter": "python",
   "pygments_lexer": "ipython3",
   "version": "3.12.4"
  }
 },
 "nbformat": 4,
 "nbformat_minor": 5
}
