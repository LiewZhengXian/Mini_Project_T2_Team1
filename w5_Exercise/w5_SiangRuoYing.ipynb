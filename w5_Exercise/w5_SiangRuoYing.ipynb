{
 "cells": [
  {
   "cell_type": "markdown",
   "id": "f2ca78d6-80e6-4bc2-a199-7e9079f1a0e5",
   "metadata": {},
   "source": [
    "# Weekly activity"
   ]
  },
  {
   "cell_type": "code",
   "execution_count": 3,
   "id": "ced64b83-3f9f-4971-8810-002bb6fd18cc",
   "metadata": {},
   "outputs": [
    {
     "data": {
      "text/plain": [
       "True"
      ]
     },
     "execution_count": 3,
     "metadata": {},
     "output_type": "execute_result"
    }
   ],
   "source": [
    "import cv2 as cv\n",
    "import numpy as np\n",
    "from utils import display_image, display_images\n",
    "\n",
    "if not cv.useOptimized():\n",
    "    cv.setUseOptimized(True)\n",
    "\n",
    "cv.useOptimized()"
   ]
  },
  {
   "cell_type": "markdown",
   "id": "251e6507-95b4-4b29-bf6d-2f3c75ab94f0",
   "metadata": {},
   "source": [
    "1. Rotate image by 45 degrees without cropping the sides of the image. (Hint: There are 2 strategies to tackle these problems). Use _\"lena.jfif\"_ as the input image.\n",
    "    - Use external libraries `imutils`.  \n",
    "    - Modify the transformation matrix."
   ]
  },
  {
   "cell_type": "code",
   "execution_count": 5,
   "id": "0792c6ab-2c79-4c09-839f-661dc7ce75ef",
   "metadata": {},
   "outputs": [
    {
     "name": "stdout",
     "output_type": "stream",
     "text": [
      "Requirement already satisfied: imutils in c:\\users\\siangruoying\\anaconda3\\lib\\site-packages (0.5.4)\n",
      "Note: you may need to restart the kernel to use updated packages.\n"
     ]
    }
   ],
   "source": [
    "pip install imutils"
   ]
  },
  {
   "cell_type": "code",
   "execution_count": 85,
   "id": "7c2a0102-0701-4cd6-ac3c-57932f260f92",
   "metadata": {},
   "outputs": [],
   "source": [
    "import imutils\n",
    "\n",
    "img = cv.imread(\"images/lena.jfif\")\n",
    "\n",
    "angle = 45\n",
    "\n",
    "dst = imutils.rotate_bound(img, angle)\n",
    "\n",
    "display_images([img, dst], (\"original\", \"rotate\"))"
   ]
  },
  {
   "cell_type": "code",
   "execution_count": 11,
   "id": "22256163-f329-4007-ba2c-cd8839859738",
   "metadata": {},
   "outputs": [],
   "source": [
    "img = cv.imread(\"images/lena.jfif\")\n",
    "\n",
    "h, w = img.shape[:2]\n",
    "center = (w//2, h//2)\n",
    "angle = 45\n",
    "scale = 1\n",
    "M = cv.getRotationMatrix2D(center, angle, scale)\n",
    "\n",
    "abs_cos = abs(M[0, 0])\n",
    "abs_sin = abs(M[0, 1])\n",
    "new_w = int(h*abs_sin + w*abs_cos)\n",
    "new_h = int(h*abs_cos + w*abs_sin)\n",
    "\n",
    "M[0, 2] += (new_w/2) - center[0]\n",
    "M[1, 2] += (new_h/2) - center[1]\n",
    "\n",
    "dst = cv.warpAffine(img, M, (new_w, new_h))\n",
    "display_images([img, dst], (\"original\", \"rotate\"))"
   ]
  },
  {
   "cell_type": "markdown",
   "id": "ccb217fe-90a3-4029-85ba-c2837702fd46",
   "metadata": {},
   "source": [
    "2. Use the images with titles: _\"flower.jfif\"_ and _\"native-bee.png\"_. I want to put flower above an image. If I add two images, it will change color. If I blend it, I get a transparent effect. But I want it to be opaque. If it was a rectangular region, we could use the ROI as we did in the previous section. But flower is not a rectangular region. This is where bitwise operations, like AND, OR, NOT and XOR really come in handy. The associated functions are `cv.bitwise_and()`, `cv.bitwise_or()` and `cv.bitwise_not()`. You need to use `cv.threshold` function to segment the flower. Please refer to [online documentation](https://docs.opencv.org/4.x/d0/d86/tutorial_py_image_arithmetics.html) for more info. The result should resemble the following:  \n",
    "![bee and flowers](img_embed/activity3.PNG \"bee_flower\")"
   ]
  },
  {
   "cell_type": "code",
   "execution_count": 21,
   "id": "eb74f624-7cc7-48bb-babd-7c0423e8241f",
   "metadata": {},
   "outputs": [],
   "source": [
    "bee = cv.imread(\"images/native-bee.png\")\n",
    "flower = cv.imread(\"images/flower.jfif\")\n",
    "\n",
    "rows, cols, cahnnels = flower.shape   # get dimension of flower img\n",
    "roi = bee[0:rows, 0:cols]   # define roi in bee (the place flower will be placed)\n",
    "\n",
    "flower_gray = cv.cvtColor(flower, cv.COLOR_BGR2GRAY)    # convert flower image to grayscale\n",
    "ret, mask = cv.threshold(flower_gray, 10, 255, cv.THRESH_BINARY)     # create binary mask\n",
    "mask_inv = cv.bitwise_not(mask)    # create inverse mask\n",
    "\n",
    "bee_bg = cv.bitwise_and(roi, roi, mask = mask_inv)     # black out area of flower in bee\n",
    "flower_fg = cv.bitwise_and(flower, flower, mask = mask)    # take region of flower\n",
    "\n",
    "# add flower to roi & modify main image\n",
    "dst = cv.add(bee_bg, flower_fg)\n",
    "bee[0:rows, 0:cols] = dst\n",
    "\n",
    "display_image(\"flower_bee\", bee)"
   ]
  },
  {
   "cell_type": "markdown",
   "id": "bff275ad-8751-4f6a-b751-6419bbebbf14",
   "metadata": {},
   "source": [
    "3. Write a function that randomly crop the central region of an image. The method signature should be as shown in the following:\n",
    "```\n",
    "random_center_crop(image, min_crop_ratio, max_crop_ratio)\n",
    "```"
   ]
  },
  {
   "cell_type": "code",
   "execution_count": 87,
   "id": "d0d96ad3-e726-45f0-82be-86c0de39bc89",
   "metadata": {},
   "outputs": [],
   "source": [
    "def random_center_crop(image, min_crop_ratio, max_crop_ratio):\n",
    "    \"\"\"\n",
    "    Parameter\n",
    "    ---\n",
    "    image: image to be cropped\n",
    "    min_crop_ratio: minimum crop ratio\n",
    "    max_crop_ratio: maximum crop ratio\n",
    "\n",
    "    Returns\n",
    "    ---\n",
    "    img_crop: cropped image\n",
    "    \"\"\"\n",
    "\n",
    "    if not ( 0 <= min_crop_ratio <= max_crop_ratio <= 1):\n",
    "        raise ValueError(\"Crop ratios must between 0 and 1\")\n",
    "\n",
    "    # get dimensions\n",
    "    h, w = img.shape[:2]\n",
    "\n",
    "    #select random crop ratio within range\n",
    "    crop_ratio = np.random.uniform(min_crop_ratio, max_crop_ratio)\n",
    "    \n",
    "    # get new dimensions\n",
    "    new_w = int(w * crop_ratio)\n",
    "    new_h = int(h * crop_ratio)\n",
    "\n",
    "    # get top left coordinate of cropped region\n",
    "    top = (h - new_h) // 2\n",
    "    left = (w - new_w) // 2\n",
    "\n",
    "    # crop central region\n",
    "    img_crop = img[top:top + new_h, left:left + new_w]\n",
    "\n",
    "    return img_crop"
   ]
  },
  {
   "cell_type": "code",
   "execution_count": 43,
   "id": "fac7043f-215d-4bb8-a09f-caa66884ca11",
   "metadata": {},
   "outputs": [],
   "source": [
    "img = cv.imread(\"images/car.jpg\")\n",
    "img_crop = random_center_crop(img, 0.5, 0.8)\n",
    "display_images([img, img_crop], (\"original\", \"cropped\"))"
   ]
  },
  {
   "cell_type": "markdown",
   "id": "babd0c24-16f1-42e4-bca4-597507677391",
   "metadata": {},
   "source": [
    "4. Aside from Gaussian noise, name another common type of noise. Write the code to demonstrate how the noise can be included in an image."
   ]
  },
  {
   "cell_type": "code",
   "execution_count": 81,
   "id": "2271cca4-a156-4235-9284-500c49655dc4",
   "metadata": {},
   "outputs": [],
   "source": [
    "# salt-and-pepper noise (only can be applied  to grayscale img )\n",
    "\n",
    "def add_noise(img):\n",
    "\n",
    "    # get img dimension\n",
    "    row, col = img.shape\n",
    "\n",
    "    # randomly pick pixel between 300 & 5000 to color white (salt noise)\n",
    "    num_of_pixel = np.random.randint(300, 8000)\n",
    "\n",
    "    for i in range(num_of_pixel):\n",
    "        \n",
    "        # pick random y & x\n",
    "        y = np.random.randint(0, row-1)\n",
    "        x = np.random.randint(0, col-1)\n",
    "\n",
    "        # color the pixel to white\n",
    "        img[y][x] = 255\n",
    "\n",
    "    # randomly pick pixel between 300 & 5000 to color black (pepper noise)\n",
    "    num_of_pixel = np.random.randint(300, 8000)\n",
    "\n",
    "    for i in range(num_of_pixel):\n",
    "        \n",
    "        # pick random y & x\n",
    "        y = np.random.randint(0, row-1)\n",
    "        x = np.random.randint(0, col-1)\n",
    "\n",
    "        # color the pixel to white\n",
    "        img[y][x] = 0\n",
    "\n",
    "    return img"
   ]
  },
  {
   "cell_type": "code",
   "execution_count": 83,
   "id": "e257e3c2-af63-4619-b7c6-8c09439b4330",
   "metadata": {},
   "outputs": [],
   "source": [
    "img = cv.imread(\"images/lena.jfif\")\n",
    "img_gray = cv.cvtColor(img, cv.COLOR_BGR2GRAY)\n",
    "img_noise = add_noise(img_gray)\n",
    "\n",
    "display_images([img, img_noise], (\"original\", \"add noise\"))"
   ]
  }
 ],
 "metadata": {
  "kernelspec": {
   "display_name": "Python 3 (ipykernel)",
   "language": "python",
   "name": "python3"
  },
  "language_info": {
   "codemirror_mode": {
    "name": "ipython",
    "version": 3
   },
   "file_extension": ".py",
   "mimetype": "text/x-python",
   "name": "python",
   "nbconvert_exporter": "python",
   "pygments_lexer": "ipython3",
   "version": "3.12.4"
  }
 },
 "nbformat": 4,
 "nbformat_minor": 5
}
